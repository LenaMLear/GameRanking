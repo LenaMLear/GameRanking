{
 "cells": [
  {
   "cell_type": "markdown",
   "id": "d9b5fde6-6725-4cf7-becb-82442a45cdad",
   "metadata": {},
   "source": [
    "# Game Ranking Algorithm"
   ]
  },
  {
   "cell_type": "markdown",
   "id": "8c22b486-5959-431b-b445-8d42b5ea89e0",
   "metadata": {},
   "source": [
    "####"
   ]
  },
  {
   "cell_type": "markdown",
   "id": "28bdfbad-c8ea-4e39-bfd2-68b210abb7cf",
   "metadata": {},
   "source": [
    "## 1. Preview the dataset"
   ]
  },
  {
   "cell_type": "code",
   "execution_count": 4,
   "id": "565c1f30-555c-42aa-9efe-945841e62376",
   "metadata": {},
   "outputs": [],
   "source": [
    "import pandas as pd"
   ]
  },
  {
   "cell_type": "code",
   "execution_count": 5,
   "id": "b571d1f3-dd8b-4385-aefd-48e3a7c0bc2b",
   "metadata": {},
   "outputs": [],
   "source": [
    "path=\"C:/Users/Lina/OneDrive/Desktop/bgg-15m-reviews.csv\"\n",
    "df = pd.read_csv(path,index_col=0)"
   ]
  },
  {
   "cell_type": "code",
   "execution_count": 6,
   "id": "5adc1949-15c9-4bbd-ab83-a0e4342fa5a3",
   "metadata": {},
   "outputs": [
    {
     "name": "stdout",
     "output_type": "stream",
     "text": [
      "<class 'pandas.core.frame.DataFrame'>\n",
      "Index: 15823269 entries, 0 to 15823268\n",
      "Data columns (total 5 columns):\n",
      " #   Column   Dtype  \n",
      "---  ------   -----  \n",
      " 0   user     object \n",
      " 1   rating   float64\n",
      " 2   comment  object \n",
      " 3   ID       int64  \n",
      " 4   name     object \n",
      "dtypes: float64(1), int64(1), object(3)\n",
      "memory usage: 724.3+ MB\n"
     ]
    },
    {
     "data": {
      "text/html": [
       "<div>\n",
       "<style scoped>\n",
       "    .dataframe tbody tr th:only-of-type {\n",
       "        vertical-align: middle;\n",
       "    }\n",
       "\n",
       "    .dataframe tbody tr th {\n",
       "        vertical-align: top;\n",
       "    }\n",
       "\n",
       "    .dataframe thead th {\n",
       "        text-align: right;\n",
       "    }\n",
       "</style>\n",
       "<table border=\"1\" class=\"dataframe\">\n",
       "  <thead>\n",
       "    <tr style=\"text-align: right;\">\n",
       "      <th></th>\n",
       "      <th>user</th>\n",
       "      <th>rating</th>\n",
       "      <th>comment</th>\n",
       "      <th>ID</th>\n",
       "      <th>name</th>\n",
       "    </tr>\n",
       "  </thead>\n",
       "  <tbody>\n",
       "    <tr>\n",
       "      <th>15823264</th>\n",
       "      <td>Fafhrd65</td>\n",
       "      <td>8.0</td>\n",
       "      <td>Turn based preview looks very promising. The g...</td>\n",
       "      <td>281515</td>\n",
       "      <td>Company of Heroes</td>\n",
       "    </tr>\n",
       "    <tr>\n",
       "      <th>15823265</th>\n",
       "      <td>PlatinumOh</td>\n",
       "      <td>8.0</td>\n",
       "      <td>KS</td>\n",
       "      <td>281515</td>\n",
       "      <td>Company of Heroes</td>\n",
       "    </tr>\n",
       "    <tr>\n",
       "      <th>15823266</th>\n",
       "      <td>BunkerBill</td>\n",
       "      <td>7.0</td>\n",
       "      <td>NaN</td>\n",
       "      <td>281515</td>\n",
       "      <td>Company of Heroes</td>\n",
       "    </tr>\n",
       "    <tr>\n",
       "      <th>15823267</th>\n",
       "      <td>Hattori Hanzo</td>\n",
       "      <td>6.0</td>\n",
       "      <td>NaN</td>\n",
       "      <td>281515</td>\n",
       "      <td>Company of Heroes</td>\n",
       "    </tr>\n",
       "    <tr>\n",
       "      <th>15823268</th>\n",
       "      <td>Richie2000</td>\n",
       "      <td>1.0</td>\n",
       "      <td>NaN</td>\n",
       "      <td>281515</td>\n",
       "      <td>Company of Heroes</td>\n",
       "    </tr>\n",
       "  </tbody>\n",
       "</table>\n",
       "</div>"
      ],
      "text/plain": [
       "                   user  rating  \\\n",
       "15823264       Fafhrd65     8.0   \n",
       "15823265     PlatinumOh     8.0   \n",
       "15823266     BunkerBill     7.0   \n",
       "15823267  Hattori Hanzo     6.0   \n",
       "15823268     Richie2000     1.0   \n",
       "\n",
       "                                                    comment      ID  \\\n",
       "15823264  Turn based preview looks very promising. The g...  281515   \n",
       "15823265                                                 KS  281515   \n",
       "15823266                                                NaN  281515   \n",
       "15823267                                                NaN  281515   \n",
       "15823268                                                NaN  281515   \n",
       "\n",
       "                       name  \n",
       "15823264  Company of Heroes  \n",
       "15823265  Company of Heroes  \n",
       "15823266  Company of Heroes  \n",
       "15823267  Company of Heroes  \n",
       "15823268  Company of Heroes  "
      ]
     },
     "execution_count": 6,
     "metadata": {},
     "output_type": "execute_result"
    }
   ],
   "source": [
    "#Check Datasets' Attributes and their Type\n",
    "df.head()\n",
    "df.info()\n",
    "df.tail()"
   ]
  },
  {
   "cell_type": "code",
   "execution_count": 7,
   "id": "46dd6928-07f8-4028-a455-6c325805c462",
   "metadata": {},
   "outputs": [
    {
     "name": "stdout",
     "output_type": "stream",
     "text": [
      "Number of duplicate rows: 0\n"
     ]
    }
   ],
   "source": [
    "#Check for NULL and Duplicates\n",
    "df.isnull().sum()\n",
    "\n",
    "num_duplicates = df.duplicated().sum()\n",
    "print(\"Number of duplicate rows:\",num_duplicates)"
   ]
  },
  {
   "cell_type": "markdown",
   "id": "87ec5c8b-7fbb-42e6-8296-0efd4eea2228",
   "metadata": {},
   "source": [
    "## 2. Explory Data Analysis (EDA)"
   ]
  },
  {
   "cell_type": "code",
   "execution_count": 8,
   "id": "463a9434-bf8b-4791-91b1-b335c04fc24b",
   "metadata": {},
   "outputs": [
    {
     "name": "stdout",
     "output_type": "stream",
     "text": [
      "How Many Times each 'user' appeared:\n",
      "user\n",
      "leffe dubbel    6027\n",
      "TomVasel        4950\n",
      "Doel            4876\n",
      "warta           4811\n",
      "Hessu68         4602\n",
      "                ... \n",
      "Cptkremmen         1\n",
      "GaiaGirl           1\n",
      "Slight_56          1\n",
      "llewellynw         1\n",
      "smedzz31           1\n",
      "Name: count, Length: 351048, dtype: int64\n",
      "\n",
      "How Many Times each 'game' appeared:\n",
      "name\n",
      "Pandemic                             96234\n",
      "Carcassonne                          96221\n",
      "Catan                                96185\n",
      "7 Wonders                            79870\n",
      "Dominion                             74954\n",
      "                                     ...  \n",
      "Top Ten: The Bill of Rights             30\n",
      "Saga: The Crescent and The Cross        30\n",
      "All Things Zombie: Final Fade Out       30\n",
      "In Extremis                             30\n",
      "Company of Heroes                       30\n",
      "Name: count, Length: 18984, dtype: int64\n",
      "\n",
      "Average number of ratings per game: 833.5055309734513\n"
     ]
    }
   ],
   "source": [
    "# Calculate value counts for the 'user' column\n",
    "user_ratings_counts = df['user'].value_counts()\n",
    "print(f\"How Many Times each 'user' appeared:\\n{user_ratings_counts}\\n\")\n",
    "\n",
    "# Calculate the count of game\n",
    "game_counts = df['name'].value_counts()\n",
    "print(f\"How Many Times each 'game' appeared:\\n{game_counts}\\n\")\n",
    "\n",
    "#Calculate the average for later purposes (BAR MINIMUM VOTES)\n",
    "average_ratings_per_game = game_counts.mean()\n",
    "\n",
    "print(f\"Average number of ratings per game: {average_ratings_per_game}\")\n",
    "\n"
   ]
  },
  {
   "cell_type": "markdown",
   "id": "15af7921-275d-4d19-ba41-0d9949ce2ffd",
   "metadata": {},
   "source": [
    "- **For users, some of them give a lot of reviews, and some do not**\n",
    "- **For games, a variation of reviews is given. MAX for Pandemic**\n",
    "  \r",
    ".\r\n"
   ]
  },
  {
   "cell_type": "code",
   "execution_count": 20,
   "id": "653b6fc9-0f83-45c2-a26b-d941edba52fc",
   "metadata": {},
   "outputs": [
    {
     "name": "stdout",
     "output_type": "stream",
     "text": [
      "Number of unique game names: 18984\n",
      "Number of unique games: 19330\n"
     ]
    }
   ],
   "source": [
    "# Count the number of unique games names in the 'game' column\n",
    "num_unique_games = df['name'].nunique()\n",
    "print(f\"Number of unique game names: {num_unique_games}\")\n",
    "\n",
    "# Count the number of unique games  in the 'game' column\n",
    "num_unique_games_ID = df['ID'].nunique()\n",
    "\n",
    "print(f\"Number of unique games: {num_unique_games_ID}\")\n"
   ]
  },
  {
   "cell_type": "markdown",
   "id": "69f272ef-07d8-4d46-8189-3bd8f330746b",
   "metadata": {},
   "source": [
    " DIFFRENT GAMES HAS **SAME** NAME"
   ]
  },
  {
   "cell_type": "code",
   "execution_count": 22,
   "id": "f1b21fc5-697b-481c-a58b-089e7b916b67",
   "metadata": {},
   "outputs": [
    {
     "name": "stdout",
     "output_type": "stream",
     "text": [
      "Unique ratings: [10.       9.9      9.8     ...  2.34667  5.362    4.33375]\n",
      "False\n",
      "False\n"
     ]
    }
   ],
   "source": [
    "# Get unique values in the 'rating' column\n",
    "unique_ratings = df['rating'].unique()\n",
    "print(\"Unique ratings:\", unique_ratings)\n",
    "\n",
    "\n",
    "# Check if there are any ratings greater or smaller than 10\n",
    "print((df['rating'] > 10).any())\n",
    "print((df['rating'] < 0).any())\n"
   ]
  },
  {
   "cell_type": "markdown",
   "id": "059f77dc-a971-4b73-b0f0-e97da4f46afd",
   "metadata": {},
   "source": [
    "## 3. First Steps in Algorithm Creation "
   ]
  },
  {
   "cell_type": "code",
   "execution_count": 11,
   "id": "18400c21-359e-48da-8dd1-74538b493ba3",
   "metadata": {},
   "outputs": [
    {
     "name": "stdout",
     "output_type": "stream",
     "text": [
      "   rating     ID      name\n",
      "0    10.0  30549  Pandemic\n",
      "1    10.0  30549  Pandemic\n",
      "2    10.0  30549  Pandemic\n",
      "3    10.0  30549  Pandemic\n",
      "4    10.0  30549  Pandemic\n"
     ]
    }
   ],
   "source": [
    "# Drop the specified columns in place\n",
    "df.drop(columns=['user', 'comment'], inplace=True)\n",
    "print(df.head()) \n"
   ]
  },
  {
   "cell_type": "code",
   "execution_count": 12,
   "id": "23efdf70-7e22-4424-bb25-86f726a6e9ec",
   "metadata": {},
   "outputs": [
    {
     "name": "stdout",
     "output_type": "stream",
     "text": [
      "name\n",
      "Aeolis                                       9.687500\n",
      "Dungeon Crusade: Book I – Genesis of Evil    9.565405\n",
      "Thug Life the Game                           9.392857\n",
      "TerroriXico                                  9.380282\n",
      "Conqueror: Final Conquest                    9.360000\n",
      "                                               ...   \n",
      "Ms. Monopoly                                 1.466667\n",
      "W.W.B                                        1.416667\n",
      "Rock Paper Scissors Game                     1.320000\n",
      "Alien: USCSS Nostromo                        1.231933\n",
      "Oneupmanship: Mine's Bigger                  1.048437\n",
      "Name: rating, Length: 18984, dtype: float64\n"
     ]
    }
   ],
   "source": [
    "#compute the rating of each game using a simple built in function\n",
    "# Calculate the average rating for each game and sort in descending order\n",
    "average_ratings = df.groupby('name')['rating'].mean().sort_values(ascending=False)\n",
    "print(average_ratings)\n"
   ]
  },
  {
   "cell_type": "code",
   "execution_count": 13,
   "id": "7e72c8d9-fa01-48bc-80a2-5f8a9a1468a9",
   "metadata": {},
   "outputs": [
    {
     "name": "stdout",
     "output_type": "stream",
     "text": [
      "The number of ratings for Aeolis is: 32\n"
     ]
    }
   ],
   "source": [
    "number_of_ratings = df[df['name'] == \"Aeolis\"].shape[0]\n",
    "print(f\"The number of ratings for Aeolis is: {number_of_ratings}\")\n"
   ]
  },
  {
   "cell_type": "markdown",
   "id": "607d6f36-f93c-42a5-80a9-8cadb22b26e1",
   "metadata": {},
   "source": [
    "****  This was a try to see if average can be computed correctly  ****"
   ]
  },
  {
   "cell_type": "markdown",
   "id": "d81c03d4-65ba-4666-85b6-c7a5b7ad89ed",
   "metadata": {},
   "source": [
    "## Class Creation for Ranking Purpose"
   ]
  },
  {
   "cell_type": "code",
   "execution_count": 14,
   "id": "bcce8f36-ea45-4477-9608-b88e6628a662",
   "metadata": {},
   "outputs": [],
   "source": [
    "import math\n",
    "\n",
    "class Game:\n",
    "    def __init__(self, game_id, name, average_rank=0, wilson_rank=0,bar_rank=0):\n",
    "        self.id = game_id\n",
    "        self.name = name\n",
    "        self.average_rank = average_rank  \n",
    "        self.wilson_rank = wilson_rank\n",
    "        self.bar_rank= bar_rank\n",
    "\n",
    "    def calculate_average_rank(self, ratings):\n",
    "        self.average_rank = sum(ratings) / len(ratings)  \n",
    "\n",
    "    def calculate_wilson_rank(self, upvotes, total_votes, confidence=1.96):\n",
    "            p_hat = upvotes / total_votes\n",
    "            z = confidence\n",
    "            denominator = 1 + z**2 / total_votes\n",
    "            center_adjusted_probability = p_hat + z**2 / (2 * total_votes)\n",
    "            adjustment = z * math.sqrt(\n",
    "                (p_hat * (1 - p_hat) + z**2 / (4 * total_votes)) / total_votes\n",
    "            )\n",
    "            lower_bound = (center_adjusted_probability - adjustment) / denominator\n",
    "            self.wilson_rank = lower_bound\n",
    "        \n",
    "         \n",
    "    def get_average_rank(self):\n",
    "        return self.average_rank\n",
    "    def get_wilson_rank(self):\n",
    "        return self.wilson_rank        \n",
    "\n",
    "\n",
    "# Group data by ID and name and calculate average and Wilson rank\n",
    "grouped = df.groupby(['ID', 'name']).agg(\n",
    "    average_rating=('rating', 'mean'),\n",
    "    total_votes=('rating', 'count')\n",
    ").reset_index()\n",
    "\n",
    "# Assume all ratings above 7.0 are positive votes\n",
    "positive_threshold = 7.0\n",
    "grouped['positive_votes'] = df[df['rating'] >= positive_threshold].groupby('ID')['rating'].count().reindex(grouped['ID']).fillna(0).values\n",
    "\n",
    "# Create Game objects and calculate ranks\n",
    "games = []\n",
    "for _, row in grouped.iterrows():\n",
    "    ratings = df[df['ID'] == row['ID']]['rating'].tolist()  \n",
    "    game = Game(row['ID'], row['name'])\n",
    "    game.calculate_average_rank(ratings) \n",
    "    game.calculate_wilson_rank(row['positive_votes'], row['total_votes'])  \n",
    "    games.append(game)\n",
    "\n",
    "# Sort games by average rank in descending order\n",
    "sorted_games_average = sorted(games, key=lambda game: game.get_average_rank(), reverse=True)\n",
    "\n",
    "# Sort games by wilson rank in descending order\n",
    "sorted_games_wilson = sorted(games, key=lambda game: game.get_wilson_rank(), reverse=True)\n"
   ]
  },
  {
   "cell_type": "markdown",
   "id": "1d950e13-f7a2-450b-84e9-981d5dbeb68e",
   "metadata": {},
   "source": [
    "#### Checking if the Algorithm Works"
   ]
  },
  {
   "cell_type": "code",
   "execution_count": 15,
   "id": "1a7db356-ce6b-4daa-82b7-31c13411cc09",
   "metadata": {},
   "outputs": [
    {
     "name": "stdout",
     "output_type": "stream",
     "text": [
      "Game ID: 281257, Name: Aeolis, Average Rank: 9.69, Wilson Rank: 0.8928\n",
      "Game ID: 147635, Name: Dungeon Crusade: Book I – Genesis of Evil, Average Rank: 9.57, Wilson Rank: 0.8230\n",
      "Game ID: 211693, Name: Thug Life the Game, Average Rank: 9.39, Wilson Rank: 0.8421\n",
      "Game ID: 228370, Name: TerroriXico, Average Rank: 9.38, Wilson Rank: 0.8276\n",
      "Game ID: 294788, Name: Conqueror: Final Conquest, Average Rank: 9.36, Wilson Rank: 0.8547\n",
      "Game ID: 85147, Name: Wings of the Motherland, Average Rank: 9.33, Wilson Rank: 0.9273\n",
      "Game ID: 261393, Name: Dungeon Universalis, Average Rank: 9.29, Wilson Rank: 0.9419\n",
      "Game ID: 295574, Name: Dice Masters, Average Rank: 9.29, Wilson Rank: 0.8486\n",
      "Game ID: 285853, Name: Infinity Defiance, Average Rank: 9.28, Wilson Rank: 0.8764\n",
      "Game ID: 207203, Name: War Titans: Invaders Must Die!, Average Rank: 9.27, Wilson Rank: 0.8864\n"
     ]
    }
   ],
   "source": [
    "# Print sorted game information by average rank\n",
    "for game in sorted_games_average[:10]:\n",
    "    print(f\"Game ID: {game.id}, Name: {game.name}, Average Rank: {game.get_average_rank():.2f}, Wilson Rank: {game.wilson_rank:.4f}\")"
   ]
  },
  {
   "cell_type": "code",
   "execution_count": 16,
   "id": "17f19eb7-64cb-4f96-8155-2672289c2f31",
   "metadata": {},
   "outputs": [
    {
     "name": "stdout",
     "output_type": "stream",
     "text": [
      "Game ID: 291457, Name: Gloomhaven: Jaws of the Lion, Average Rank: 9.17, Wilson Rank: 0.9593\n",
      "Game ID: 270633, Name: Aeon's End: The New Age, Average Rank: 8.81, Wilson Rank: 0.9513\n",
      "Game ID: 236650, Name: 1985: Under an Iron Sky, Average Rank: 9.16, Wilson Rank: 0.9500\n",
      "Game ID: 266507, Name: Clank! Legacy: Acquisitions Incorporated, Average Rank: 8.87, Wilson Rank: 0.9460\n",
      "Game ID: 255393, Name: Stalingrad '42: Southern Russia, June-December, 1942, Average Rank: 8.67, Wilson Rank: 0.9439\n",
      "Game ID: 294484, Name: Unmatched: Cobble & Fog, Average Rank: 8.80, Wilson Rank: 0.9431\n",
      "Game ID: 224517, Name: Brass: Birmingham, Average Rank: 8.64, Wilson Rank: 0.9431\n",
      "Game ID: 261393, Name: Dungeon Universalis, Average Rank: 9.29, Wilson Rank: 0.9419\n",
      "Game ID: 215565, Name: Roads to Gettysburg II: Lee Strikes North, Average Rank: 8.92, Wilson Rank: 0.9398\n",
      "Game ID: 264476, Name: Rangers of Shadow Deep, Average Rank: 8.77, Wilson Rank: 0.9348\n"
     ]
    }
   ],
   "source": [
    "# Print sorted game information by wilson rank\n",
    "for game in sorted_games_wilson[:10]:\n",
    "    print(f\"Game ID: {game.id}, Name: {game.name}, Average Rank: {game.get_average_rank():.2f}, Wilson Rank: {game.wilson_rank:.4f}\")"
   ]
  },
  {
   "cell_type": "markdown",
   "id": "8f3af6ea-1c53-4359-9b52-7c4ab4e306ac",
   "metadata": {},
   "source": [
    "## Data Visualisation"
   ]
  },
  {
   "cell_type": "code",
   "execution_count": 17,
   "id": "f5c07616-96f0-4f7c-9c30-2afcf027550c",
   "metadata": {},
   "outputs": [
    {
     "name": "stdout",
     "output_type": "stream",
     "text": [
      "[281257, 'Aeolis', 9.6875]\n",
      "[147635, 'Dungeon Crusade: Book I – Genesis of Evil', 9.565405405405405]\n",
      "[211693, 'Thug Life the Game', 9.392857142857142]\n",
      "[228370, 'TerroriXico', 9.380281690140846]\n",
      "[294788, 'Conqueror: Final Conquest', 9.360000000000001]\n",
      "[85147, 'Wings of the Motherland', 9.33108108108108]\n",
      "[261393, 'Dungeon Universalis', 9.291042253521127]\n",
      "[295574, 'Dice Masters', 9.286363636363637]\n",
      "[285853, 'Infinity Defiance', 9.279436119402986]\n",
      "[207203, 'War Titans: Invaders Must Die!', 9.266666666666667]\n",
      "______________________________\n",
      "[291457, 'Gloomhaven: Jaws of the Lion', 0.9592910812845781]\n",
      "[270633, \"Aeon's End: The New Age\", 0.9513268381580811]\n",
      "[236650, '1985: Under an Iron Sky', 0.950006246616416]\n",
      "[266507, 'Clank! Legacy: Acquisitions Incorporated', 0.9459839650953614]\n",
      "[255393, \"Stalingrad '42: Southern Russia, June-December, 1942\", 0.9439417087473778]\n",
      "[294484, 'Unmatched: Cobble & Fog', 0.9431185411891694]\n",
      "[224517, 'Brass: Birmingham', 0.9431005554156268]\n",
      "[261393, 'Dungeon Universalis', 0.9418528668921075]\n",
      "[215565, 'Roads to Gettysburg II: Lee Strikes North', 0.9398087235860804]\n",
      "[264476, 'Rangers of Shadow Deep', 0.9348170543877011]\n"
     ]
    }
   ],
   "source": [
    "#create a list of top 10 games based on ranking \n",
    "top_10_average=[]\n",
    "top_10_wilson=[]\n",
    "for game in sorted_games_average[:10]:\n",
    "    game_info = [game.id, game.name, game.get_average_rank()]\n",
    "    top_10_average.append(game_info)\n",
    "\n",
    "for game in sorted_games_wilson[:10]:\n",
    "    game_info = [game.id, game.name, game.get_wilson_rank()]\n",
    "    top_10_wilson.append(game_info)\n",
    "\n",
    "#print LISTS results\n",
    "for i in top_10_average:\n",
    "    print(i)\n",
    "    \n",
    "print(\"______________________________\")\n",
    "\n",
    "for i in top_10_wilson:\n",
    "    print(i)"
   ]
  },
  {
   "cell_type": "code",
   "execution_count": 18,
   "id": "d101b0a3-a423-4039-a11b-682724921ccc",
   "metadata": {},
   "outputs": [
    {
     "data": {
      "image/png": "[encoded data removed]",
      "text/plain": [
       "<Figure size 1800x600 with 2 Axes>"
      ]
     },
     "metadata": {},
     "output_type": "display_data"
    }
   ],
   "source": [
    "#Put them next to each other/ Subplots\n",
    "#visualizing the difference of the two rankings\n",
    "#Get name of top10 based on avergae\n",
    "namesA = [game[1] for game in top_10_average]\n",
    "average_ranks = [game[2] for game in top_10_average]\n",
    "#Get name of top10 based on wilson\n",
    "namesW = [game[1] for game in top_10_wilson]\n",
    "wilson_ranks = [game[2] for game in top_10_wilson]\n",
    "\n",
    "import matplotlib.pyplot as plt\n",
    "fig, axes = plt.subplots(1, 2, figsize=(18, 6))\n",
    "\n",
    "# Plot for average ratings\n",
    "axes[0].barh(namesA, average_ranks)\n",
    "axes[0].set_xlabel('Average Rating')\n",
    "axes[0].set_title('Top 10 Games by Average Rating')\n",
    "axes[0].invert_yaxis()\n",
    "axes[0].set_xlim(9, 10)\n",
    "\n",
    "# Plot for Wilson ranks\n",
    "axes[1].barh(namesW, wilson_ranks, color='skyblue')\n",
    "axes[1].set_xlabel('Wilson Rating')\n",
    "axes[1].set_title('Top 10 Games by Wilson Rating')\n",
    "axes[1].invert_yaxis()\n",
    "axes[1].set_xlim(0.9, 1)\n",
    "\n",
    "\n",
    "plt.tight_layout()\n",
    "plt.show()"
   ]
  },
  {
   "cell_type": "code",
   "execution_count": 19,
   "id": "a4cb9455-a020-4035-a204-57a56e0f4f90",
   "metadata": {},
   "outputs": [],
   "source": [
    "#ADD DIFFERENT METHODS OF RANKING, ILL ADD BAYERS METHOD, I should make the jupyter notebook more appealing for presentation. \n",
    "#add more visualisation for the EDA, Try to add interactive visualization\n",
    "#more EDA"
   ]
  },
  {
   "cell_type": "code",
   "execution_count": null,
   "id": "b6d11351-ddaf-4efb-b3ae-208728c0e98b",
   "metadata": {},
   "outputs": [],
   "source": []
  },
  {
   "cell_type": "code",
   "execution_count": null,
   "id": "a96f95b1-fa83-4076-8a2b-efb53293feb6",
   "metadata": {},
   "outputs": [],
   "source": []
  }
 ],
 "metadata": {
  "kernelspec": {
   "display_name": "Python 3 (ipykernel)",
   "language": "python",
   "name": "python3"
  },
  "language_info": {
   "codemirror_mode": {
    "name": "ipython",
    "version": 3
   },
   "file_extension": ".py",
   "mimetype": "text/x-python",
   "name": "python",
   "nbconvert_exporter": "python",
   "pygments_lexer": "ipython3",
   "version": "3.11.7"
  }
 },
 "nbformat": 4,
 "nbformat_minor": 5
}
