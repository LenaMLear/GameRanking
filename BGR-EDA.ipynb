{
 "cells": [
  {
   "cell_type": "code",
   "execution_count": 1,
   "id": "565c1f30-555c-42aa-9efe-945841e62376",
   "metadata": {},
   "outputs": [],
   "source": [
    "import pandas as pd"
   ]
  },
  {
   "cell_type": "code",
   "execution_count": 2,
   "id": "b571d1f3-dd8b-4385-aefd-48e3a7c0bc2b",
   "metadata": {},
   "outputs": [],
   "source": [
    "path=\"C:/Users/Lina/OneDrive/Desktop/bgg-15m-reviews.csv\"\n",
    "df = pd.read_csv(path,index_col=0)"
   ]
  },
  {
   "cell_type": "code",
   "execution_count": 3,
   "id": "5adc1949-15c9-4bbd-ab83-a0e4342fa5a3",
   "metadata": {},
   "outputs": [
    {
     "data": {
      "text/html": [
       "<div>\n",
       "<style scoped>\n",
       "    .dataframe tbody tr th:only-of-type {\n",
       "        vertical-align: middle;\n",
       "    }\n",
       "\n",
       "    .dataframe tbody tr th {\n",
       "        vertical-align: top;\n",
       "    }\n",
       "\n",
       "    .dataframe thead th {\n",
       "        text-align: right;\n",
       "    }\n",
       "</style>\n",
       "<table border=\"1\" class=\"dataframe\">\n",
       "  <thead>\n",
       "    <tr style=\"text-align: right;\">\n",
       "      <th></th>\n",
       "      <th>user</th>\n",
       "      <th>rating</th>\n",
       "      <th>comment</th>\n",
       "      <th>ID</th>\n",
       "      <th>name</th>\n",
       "    </tr>\n",
       "  </thead>\n",
       "  <tbody>\n",
       "    <tr>\n",
       "      <th>0</th>\n",
       "      <td>Torsten</td>\n",
       "      <td>10.0</td>\n",
       "      <td>NaN</td>\n",
       "      <td>30549</td>\n",
       "      <td>Pandemic</td>\n",
       "    </tr>\n",
       "    <tr>\n",
       "      <th>1</th>\n",
       "      <td>mitnachtKAUBO-I</td>\n",
       "      <td>10.0</td>\n",
       "      <td>Hands down my favorite new game of BGG CON 200...</td>\n",
       "      <td>30549</td>\n",
       "      <td>Pandemic</td>\n",
       "    </tr>\n",
       "    <tr>\n",
       "      <th>2</th>\n",
       "      <td>avlawn</td>\n",
       "      <td>10.0</td>\n",
       "      <td>I tend to either love or easily tire of co-op ...</td>\n",
       "      <td>30549</td>\n",
       "      <td>Pandemic</td>\n",
       "    </tr>\n",
       "    <tr>\n",
       "      <th>3</th>\n",
       "      <td>Mike Mayer</td>\n",
       "      <td>10.0</td>\n",
       "      <td>NaN</td>\n",
       "      <td>30549</td>\n",
       "      <td>Pandemic</td>\n",
       "    </tr>\n",
       "    <tr>\n",
       "      <th>4</th>\n",
       "      <td>Mease19</td>\n",
       "      <td>10.0</td>\n",
       "      <td>This is an amazing co-op game.  I play mostly ...</td>\n",
       "      <td>30549</td>\n",
       "      <td>Pandemic</td>\n",
       "    </tr>\n",
       "  </tbody>\n",
       "</table>\n",
       "</div>"
      ],
      "text/plain": [
       "              user  rating                                            comment  \\\n",
       "0          Torsten    10.0                                                NaN   \n",
       "1  mitnachtKAUBO-I    10.0  Hands down my favorite new game of BGG CON 200...   \n",
       "2           avlawn    10.0  I tend to either love or easily tire of co-op ...   \n",
       "3       Mike Mayer    10.0                                                NaN   \n",
       "4          Mease19    10.0  This is an amazing co-op game.  I play mostly ...   \n",
       "\n",
       "      ID      name  \n",
       "0  30549  Pandemic  \n",
       "1  30549  Pandemic  \n",
       "2  30549  Pandemic  \n",
       "3  30549  Pandemic  \n",
       "4  30549  Pandemic  "
      ]
     },
     "execution_count": 3,
     "metadata": {},
     "output_type": "execute_result"
    }
   ],
   "source": [
    "df.head()"
   ]
  },
  {
   "cell_type": "code",
   "execution_count": 4,
   "id": "5ff23174-80e1-4b04-a303-887f7e68f63a",
   "metadata": {},
   "outputs": [
    {
     "name": "stdout",
     "output_type": "stream",
     "text": [
      "<class 'pandas.core.frame.DataFrame'>\n",
      "Index: 15823269 entries, 0 to 15823268\n",
      "Data columns (total 5 columns):\n",
      " #   Column   Dtype  \n",
      "---  ------   -----  \n",
      " 0   user     object \n",
      " 1   rating   float64\n",
      " 2   comment  object \n",
      " 3   ID       int64  \n",
      " 4   name     object \n",
      "dtypes: float64(1), int64(1), object(3)\n",
      "memory usage: 724.3+ MB\n"
     ]
    }
   ],
   "source": [
    "df.info()"
   ]
  },
  {
   "cell_type": "code",
   "execution_count": 5,
   "id": "1edb9a89-c59f-4f35-aaf0-90e67582148b",
   "metadata": {},
   "outputs": [
    {
     "data": {
      "text/html": [
       "<div>\n",
       "<style scoped>\n",
       "    .dataframe tbody tr th:only-of-type {\n",
       "        vertical-align: middle;\n",
       "    }\n",
       "\n",
       "    .dataframe tbody tr th {\n",
       "        vertical-align: top;\n",
       "    }\n",
       "\n",
       "    .dataframe thead th {\n",
       "        text-align: right;\n",
       "    }\n",
       "</style>\n",
       "<table border=\"1\" class=\"dataframe\">\n",
       "  <thead>\n",
       "    <tr style=\"text-align: right;\">\n",
       "      <th></th>\n",
       "      <th>user</th>\n",
       "      <th>rating</th>\n",
       "      <th>comment</th>\n",
       "      <th>ID</th>\n",
       "      <th>name</th>\n",
       "    </tr>\n",
       "  </thead>\n",
       "  <tbody>\n",
       "    <tr>\n",
       "      <th>15823264</th>\n",
       "      <td>Fafhrd65</td>\n",
       "      <td>8.0</td>\n",
       "      <td>Turn based preview looks very promising. The g...</td>\n",
       "      <td>281515</td>\n",
       "      <td>Company of Heroes</td>\n",
       "    </tr>\n",
       "    <tr>\n",
       "      <th>15823265</th>\n",
       "      <td>PlatinumOh</td>\n",
       "      <td>8.0</td>\n",
       "      <td>KS</td>\n",
       "      <td>281515</td>\n",
       "      <td>Company of Heroes</td>\n",
       "    </tr>\n",
       "    <tr>\n",
       "      <th>15823266</th>\n",
       "      <td>BunkerBill</td>\n",
       "      <td>7.0</td>\n",
       "      <td>NaN</td>\n",
       "      <td>281515</td>\n",
       "      <td>Company of Heroes</td>\n",
       "    </tr>\n",
       "    <tr>\n",
       "      <th>15823267</th>\n",
       "      <td>Hattori Hanzo</td>\n",
       "      <td>6.0</td>\n",
       "      <td>NaN</td>\n",
       "      <td>281515</td>\n",
       "      <td>Company of Heroes</td>\n",
       "    </tr>\n",
       "    <tr>\n",
       "      <th>15823268</th>\n",
       "      <td>Richie2000</td>\n",
       "      <td>1.0</td>\n",
       "      <td>NaN</td>\n",
       "      <td>281515</td>\n",
       "      <td>Company of Heroes</td>\n",
       "    </tr>\n",
       "  </tbody>\n",
       "</table>\n",
       "</div>"
      ],
      "text/plain": [
       "                   user  rating  \\\n",
       "15823264       Fafhrd65     8.0   \n",
       "15823265     PlatinumOh     8.0   \n",
       "15823266     BunkerBill     7.0   \n",
       "15823267  Hattori Hanzo     6.0   \n",
       "15823268     Richie2000     1.0   \n",
       "\n",
       "                                                    comment      ID  \\\n",
       "15823264  Turn based preview looks very promising. The g...  281515   \n",
       "15823265                                                 KS  281515   \n",
       "15823266                                                NaN  281515   \n",
       "15823267                                                NaN  281515   \n",
       "15823268                                                NaN  281515   \n",
       "\n",
       "                       name  \n",
       "15823264  Company of Heroes  \n",
       "15823265  Company of Heroes  \n",
       "15823266  Company of Heroes  \n",
       "15823267  Company of Heroes  \n",
       "15823268  Company of Heroes  "
      ]
     },
     "execution_count": 5,
     "metadata": {},
     "output_type": "execute_result"
    }
   ],
   "source": [
    "df.tail()"
   ]
  },
  {
   "cell_type": "code",
   "execution_count": 6,
   "id": "44559d0b-259b-4fd3-836d-670255919a44",
   "metadata": {},
   "outputs": [
    {
     "data": {
      "text/html": [
       "<div>\n",
       "<style scoped>\n",
       "    .dataframe tbody tr th:only-of-type {\n",
       "        vertical-align: middle;\n",
       "    }\n",
       "\n",
       "    .dataframe tbody tr th {\n",
       "        vertical-align: top;\n",
       "    }\n",
       "\n",
       "    .dataframe thead th {\n",
       "        text-align: right;\n",
       "    }\n",
       "</style>\n",
       "<table border=\"1\" class=\"dataframe\">\n",
       "  <thead>\n",
       "    <tr style=\"text-align: right;\">\n",
       "      <th></th>\n",
       "      <th>user</th>\n",
       "      <th>rating</th>\n",
       "      <th>comment</th>\n",
       "      <th>ID</th>\n",
       "      <th>name</th>\n",
       "    </tr>\n",
       "  </thead>\n",
       "  <tbody>\n",
       "    <tr>\n",
       "      <th>0</th>\n",
       "      <td>Torsten</td>\n",
       "      <td>10.0</td>\n",
       "      <td>NaN</td>\n",
       "      <td>30549</td>\n",
       "      <td>Pandemic</td>\n",
       "    </tr>\n",
       "    <tr>\n",
       "      <th>1</th>\n",
       "      <td>mitnachtKAUBO-I</td>\n",
       "      <td>10.0</td>\n",
       "      <td>Hands down my favorite new game of BGG CON 200...</td>\n",
       "      <td>30549</td>\n",
       "      <td>Pandemic</td>\n",
       "    </tr>\n",
       "    <tr>\n",
       "      <th>2</th>\n",
       "      <td>avlawn</td>\n",
       "      <td>10.0</td>\n",
       "      <td>I tend to either love or easily tire of co-op ...</td>\n",
       "      <td>30549</td>\n",
       "      <td>Pandemic</td>\n",
       "    </tr>\n",
       "    <tr>\n",
       "      <th>3</th>\n",
       "      <td>Mike Mayer</td>\n",
       "      <td>10.0</td>\n",
       "      <td>NaN</td>\n",
       "      <td>30549</td>\n",
       "      <td>Pandemic</td>\n",
       "    </tr>\n",
       "    <tr>\n",
       "      <th>4</th>\n",
       "      <td>Mease19</td>\n",
       "      <td>10.0</td>\n",
       "      <td>This is an amazing co-op game.  I play mostly ...</td>\n",
       "      <td>30549</td>\n",
       "      <td>Pandemic</td>\n",
       "    </tr>\n",
       "    <tr>\n",
       "      <th>...</th>\n",
       "      <td>...</td>\n",
       "      <td>...</td>\n",
       "      <td>...</td>\n",
       "      <td>...</td>\n",
       "      <td>...</td>\n",
       "    </tr>\n",
       "    <tr>\n",
       "      <th>15823264</th>\n",
       "      <td>Fafhrd65</td>\n",
       "      <td>8.0</td>\n",
       "      <td>Turn based preview looks very promising. The g...</td>\n",
       "      <td>281515</td>\n",
       "      <td>Company of Heroes</td>\n",
       "    </tr>\n",
       "    <tr>\n",
       "      <th>15823265</th>\n",
       "      <td>PlatinumOh</td>\n",
       "      <td>8.0</td>\n",
       "      <td>KS</td>\n",
       "      <td>281515</td>\n",
       "      <td>Company of Heroes</td>\n",
       "    </tr>\n",
       "    <tr>\n",
       "      <th>15823266</th>\n",
       "      <td>BunkerBill</td>\n",
       "      <td>7.0</td>\n",
       "      <td>NaN</td>\n",
       "      <td>281515</td>\n",
       "      <td>Company of Heroes</td>\n",
       "    </tr>\n",
       "    <tr>\n",
       "      <th>15823267</th>\n",
       "      <td>Hattori Hanzo</td>\n",
       "      <td>6.0</td>\n",
       "      <td>NaN</td>\n",
       "      <td>281515</td>\n",
       "      <td>Company of Heroes</td>\n",
       "    </tr>\n",
       "    <tr>\n",
       "      <th>15823268</th>\n",
       "      <td>Richie2000</td>\n",
       "      <td>1.0</td>\n",
       "      <td>NaN</td>\n",
       "      <td>281515</td>\n",
       "      <td>Company of Heroes</td>\n",
       "    </tr>\n",
       "  </tbody>\n",
       "</table>\n",
       "<p>15823269 rows × 5 columns</p>\n",
       "</div>"
      ],
      "text/plain": [
       "                     user  rating  \\\n",
       "0                 Torsten    10.0   \n",
       "1         mitnachtKAUBO-I    10.0   \n",
       "2                  avlawn    10.0   \n",
       "3              Mike Mayer    10.0   \n",
       "4                 Mease19    10.0   \n",
       "...                   ...     ...   \n",
       "15823264         Fafhrd65     8.0   \n",
       "15823265       PlatinumOh     8.0   \n",
       "15823266       BunkerBill     7.0   \n",
       "15823267    Hattori Hanzo     6.0   \n",
       "15823268       Richie2000     1.0   \n",
       "\n",
       "                                                    comment      ID  \\\n",
       "0                                                       NaN   30549   \n",
       "1         Hands down my favorite new game of BGG CON 200...   30549   \n",
       "2         I tend to either love or easily tire of co-op ...   30549   \n",
       "3                                                       NaN   30549   \n",
       "4         This is an amazing co-op game.  I play mostly ...   30549   \n",
       "...                                                     ...     ...   \n",
       "15823264  Turn based preview looks very promising. The g...  281515   \n",
       "15823265                                                 KS  281515   \n",
       "15823266                                                NaN  281515   \n",
       "15823267                                                NaN  281515   \n",
       "15823268                                                NaN  281515   \n",
       "\n",
       "                       name  \n",
       "0                  Pandemic  \n",
       "1                  Pandemic  \n",
       "2                  Pandemic  \n",
       "3                  Pandemic  \n",
       "4                  Pandemic  \n",
       "...                     ...  \n",
       "15823264  Company of Heroes  \n",
       "15823265  Company of Heroes  \n",
       "15823266  Company of Heroes  \n",
       "15823267  Company of Heroes  \n",
       "15823268  Company of Heroes  \n",
       "\n",
       "[15823269 rows x 5 columns]"
      ]
     },
     "execution_count": 6,
     "metadata": {},
     "output_type": "execute_result"
    }
   ],
   "source": [
    "df"
   ]
  },
  {
   "cell_type": "code",
   "execution_count": 7,
   "id": "46dd6928-07f8-4028-a455-6c325805c462",
   "metadata": {},
   "outputs": [
    {
     "data": {
      "text/plain": [
       "user             66\n",
       "rating            0\n",
       "comment    12828247\n",
       "ID                0\n",
       "name              0\n",
       "dtype: int64"
      ]
     },
     "execution_count": 7,
     "metadata": {},
     "output_type": "execute_result"
    }
   ],
   "source": [
    "df.isnull().sum()"
   ]
  },
  {
   "cell_type": "code",
   "execution_count": 8,
   "id": "10293757-2515-43d7-920e-9c0e7c0f64a0",
   "metadata": {},
   "outputs": [
    {
     "name": "stdout",
     "output_type": "stream",
     "text": [
      "Number of duplicate rows: 0\n"
     ]
    }
   ],
   "source": [
    "# Count how many duplicate rows exist \n",
    "num_duplicates = df.duplicated().sum()\n",
    "print(\"Number of duplicate rows:\",num_duplicates)\n"
   ]
  },
  {
   "cell_type": "code",
   "execution_count": 9,
   "id": "463a9434-bf8b-4791-91b1-b335c04fc24b",
   "metadata": {},
   "outputs": [
    {
     "name": "stdout",
     "output_type": "stream",
     "text": [
      "Value counts for column 'user':\n",
      "user\n",
      "leffe dubbel    6027\n",
      "TomVasel        4950\n",
      "Doel            4876\n",
      "warta           4811\n",
      "Hessu68         4602\n",
      "                ... \n",
      "Cptkremmen         1\n",
      "GaiaGirl           1\n",
      "Slight_56          1\n",
      "llewellynw         1\n",
      "smedzz31           1\n",
      "Name: count, Length: 351048, dtype: int64\n",
      "\n",
      "Value counts for column 'name':\n",
      "name\n",
      "Pandemic                             96234\n",
      "Carcassonne                          96221\n",
      "Catan                                96185\n",
      "7 Wonders                            79870\n",
      "Dominion                             74954\n",
      "                                     ...  \n",
      "Top Ten: The Bill of Rights             30\n",
      "Saga: The Crescent and The Cross        30\n",
      "All Things Zombie: Final Fade Out       30\n",
      "In Extremis                             30\n",
      "Company of Heroes                       30\n",
      "Name: count, Length: 18984, dtype: int64\n",
      "\n"
     ]
    }
   ],
   "source": [
    "#EDA\n",
    "\n",
    "columns_to_loop = ['user', 'name']\n",
    "\n",
    "for col in columns_to_loop:\n",
    "    value_counts = df[col].value_counts()\n",
    "    print(f\"Value counts for column '{col}':\\n{value_counts}\\n\")\n"
   ]
  },
  {
   "cell_type": "raw",
   "id": "6654e081-d759-400b-ade6-63eea8a8a2f7",
   "metadata": {},
   "source": [
    "For users, some of them gives a lot of reviews. and some do not.\n",
    "For game, A variation o freviews are given. max pandemic, least a few"
   ]
  },
  {
   "cell_type": "code",
   "execution_count": 10,
   "id": "653b6fc9-0f83-45c2-a26b-d941edba52fc",
   "metadata": {},
   "outputs": [
    {
     "name": "stdout",
     "output_type": "stream",
     "text": [
      "Number of unique games: 18984\n"
     ]
    }
   ],
   "source": [
    "# Count the number of unique games in the 'game' column\n",
    "num_unique_games = df['name'].nunique()\n",
    "\n",
    "print(f\"Number of unique games: {num_unique_games}\")\n"
   ]
  },
  {
   "cell_type": "code",
   "execution_count": 11,
   "id": "f1b21fc5-697b-481c-a58b-089e7b916b67",
   "metadata": {},
   "outputs": [
    {
     "name": "stdout",
     "output_type": "stream",
     "text": [
      "Unique ratings: [10.       9.9      9.8     ...  2.34667  5.362    4.33375]\n"
     ]
    }
   ],
   "source": [
    "# Get unique values in the 'rating' column\n",
    "unique_ratings = df['rating'].unique()\n",
    "print(\"Unique ratings:\", unique_ratings)\n"
   ]
  },
  {
   "cell_type": "code",
   "execution_count": 12,
   "id": "ac0cc360-218a-4e09-bc0f-955f2841e596",
   "metadata": {},
   "outputs": [
    {
     "name": "stdout",
     "output_type": "stream",
     "text": [
      "Is there any rating greater than 10? False\n",
      "Is there any rating less than 0? False\n"
     ]
    }
   ],
   "source": [
    "# Check if there are any ratings greater than 10\n",
    "has_rating_above_10 = (df['rating'] > 10).any()\n",
    "# Check if there are any ratings less than 0\n",
    "has_rating_below_0 = (df['rating'] < 0).any()\n",
    "\n",
    "# Print results\n",
    "print(\"Is there any rating greater than 10? \" + str(has_rating_above_10))\n",
    "print(\"Is there any rating less than 0? \" + str(has_rating_below_0))\n"
   ]
  },
  {
   "cell_type": "code",
   "execution_count": 13,
   "id": "f42904e7-4fc3-4e65-86db-69a0631ccf38",
   "metadata": {},
   "outputs": [],
   "source": [
    "#check how many unique games there are, check the rating bigger than 10 less than 0. for each game its rating"
   ]
  },
  {
   "cell_type": "code",
   "execution_count": 14,
   "id": "18400c21-359e-48da-8dd1-74538b493ba3",
   "metadata": {},
   "outputs": [
    {
     "name": "stdout",
     "output_type": "stream",
     "text": [
      "   rating     ID      name\n",
      "0    10.0  30549  Pandemic\n",
      "1    10.0  30549  Pandemic\n",
      "2    10.0  30549  Pandemic\n",
      "3    10.0  30549  Pandemic\n",
      "4    10.0  30549  Pandemic\n"
     ]
    }
   ],
   "source": [
    "# Drop the specified columns in place\n",
    "df.drop(columns=['user', 'comment'], inplace=True)\n",
    "\n",
    "# Display the DataFrame after dropping the columns\n",
    "print(df.head())  # Shows the first few rows of the updated DataFrame\n"
   ]
  },
  {
   "cell_type": "code",
   "execution_count": 15,
   "id": "7bf5f941-e46d-4f4d-abb2-266a1ad83cbb",
   "metadata": {},
   "outputs": [
    {
     "data": {
      "text/html": [
       "<div>\n",
       "<style scoped>\n",
       "    .dataframe tbody tr th:only-of-type {\n",
       "        vertical-align: middle;\n",
       "    }\n",
       "\n",
       "    .dataframe tbody tr th {\n",
       "        vertical-align: top;\n",
       "    }\n",
       "\n",
       "    .dataframe thead th {\n",
       "        text-align: right;\n",
       "    }\n",
       "</style>\n",
       "<table border=\"1\" class=\"dataframe\">\n",
       "  <thead>\n",
       "    <tr style=\"text-align: right;\">\n",
       "      <th></th>\n",
       "      <th>rating</th>\n",
       "      <th>ID</th>\n",
       "      <th>name</th>\n",
       "    </tr>\n",
       "  </thead>\n",
       "  <tbody>\n",
       "    <tr>\n",
       "      <th>0</th>\n",
       "      <td>10.0</td>\n",
       "      <td>30549</td>\n",
       "      <td>Pandemic</td>\n",
       "    </tr>\n",
       "    <tr>\n",
       "      <th>1</th>\n",
       "      <td>10.0</td>\n",
       "      <td>30549</td>\n",
       "      <td>Pandemic</td>\n",
       "    </tr>\n",
       "    <tr>\n",
       "      <th>2</th>\n",
       "      <td>10.0</td>\n",
       "      <td>30549</td>\n",
       "      <td>Pandemic</td>\n",
       "    </tr>\n",
       "    <tr>\n",
       "      <th>3</th>\n",
       "      <td>10.0</td>\n",
       "      <td>30549</td>\n",
       "      <td>Pandemic</td>\n",
       "    </tr>\n",
       "    <tr>\n",
       "      <th>4</th>\n",
       "      <td>10.0</td>\n",
       "      <td>30549</td>\n",
       "      <td>Pandemic</td>\n",
       "    </tr>\n",
       "    <tr>\n",
       "      <th>...</th>\n",
       "      <td>...</td>\n",
       "      <td>...</td>\n",
       "      <td>...</td>\n",
       "    </tr>\n",
       "    <tr>\n",
       "      <th>15823264</th>\n",
       "      <td>8.0</td>\n",
       "      <td>281515</td>\n",
       "      <td>Company of Heroes</td>\n",
       "    </tr>\n",
       "    <tr>\n",
       "      <th>15823265</th>\n",
       "      <td>8.0</td>\n",
       "      <td>281515</td>\n",
       "      <td>Company of Heroes</td>\n",
       "    </tr>\n",
       "    <tr>\n",
       "      <th>15823266</th>\n",
       "      <td>7.0</td>\n",
       "      <td>281515</td>\n",
       "      <td>Company of Heroes</td>\n",
       "    </tr>\n",
       "    <tr>\n",
       "      <th>15823267</th>\n",
       "      <td>6.0</td>\n",
       "      <td>281515</td>\n",
       "      <td>Company of Heroes</td>\n",
       "    </tr>\n",
       "    <tr>\n",
       "      <th>15823268</th>\n",
       "      <td>1.0</td>\n",
       "      <td>281515</td>\n",
       "      <td>Company of Heroes</td>\n",
       "    </tr>\n",
       "  </tbody>\n",
       "</table>\n",
       "<p>15823269 rows × 3 columns</p>\n",
       "</div>"
      ],
      "text/plain": [
       "          rating      ID               name\n",
       "0           10.0   30549           Pandemic\n",
       "1           10.0   30549           Pandemic\n",
       "2           10.0   30549           Pandemic\n",
       "3           10.0   30549           Pandemic\n",
       "4           10.0   30549           Pandemic\n",
       "...          ...     ...                ...\n",
       "15823264     8.0  281515  Company of Heroes\n",
       "15823265     8.0  281515  Company of Heroes\n",
       "15823266     7.0  281515  Company of Heroes\n",
       "15823267     6.0  281515  Company of Heroes\n",
       "15823268     1.0  281515  Company of Heroes\n",
       "\n",
       "[15823269 rows x 3 columns]"
      ]
     },
     "execution_count": 15,
     "metadata": {},
     "output_type": "execute_result"
    }
   ],
   "source": [
    "df"
   ]
  },
  {
   "cell_type": "code",
   "execution_count": 16,
   "id": "23efdf70-7e22-4424-bb25-86f726a6e9ec",
   "metadata": {},
   "outputs": [
    {
     "name": "stdout",
     "output_type": "stream",
     "text": [
      "name\n",
      "Aeolis                                       9.687500\n",
      "Dungeon Crusade: Book I – Genesis of Evil    9.565405\n",
      "Thug Life the Game                           9.392857\n",
      "TerroriXico                                  9.380282\n",
      "Conqueror: Final Conquest                    9.360000\n",
      "                                               ...   \n",
      "Ms. Monopoly                                 1.466667\n",
      "W.W.B                                        1.416667\n",
      "Rock Paper Scissors Game                     1.320000\n",
      "Alien: USCSS Nostromo                        1.231933\n",
      "Oneupmanship: Mine's Bigger                  1.048437\n",
      "Name: rating, Length: 18984, dtype: float64\n"
     ]
    }
   ],
   "source": [
    "#compute the rating of each game\n",
    "# Calculate the average rating for each game and sort in descending order\n",
    "average_ratings = df.groupby('name')['rating'].mean().sort_values(ascending=False)\n",
    "\n",
    "# Display the average ratings\n",
    "print(average_ratings)\n"
   ]
  },
  {
   "cell_type": "raw",
   "id": "e00e23bb-538f-44bf-a1f3-05c3bef9f270",
   "metadata": {},
   "source": [
    "what i want here is the results in classes so easy access for future, i wanna make a name.nb of ratings.avg rate.rank"
   ]
  },
  {
   "cell_type": "code",
   "execution_count": 17,
   "id": "7e72c8d9-fa01-48bc-80a2-5f8a9a1468a9",
   "metadata": {},
   "outputs": [
    {
     "name": "stdout",
     "output_type": "stream",
     "text": [
      "The number of ratings for Aeolis is: 32\n"
     ]
    }
   ],
   "source": [
    "number_of_ratings = df[df['name'] == \"Aeolis\"].shape[0]\n",
    "print(f\"The number of ratings for Aeolis is: {number_of_ratings}\")\n"
   ]
  },
  {
   "cell_type": "code",
   "execution_count": 18,
   "id": "74301b6e-b906-421a-b8c7-b489aa371f7a",
   "metadata": {},
   "outputs": [],
   "source": [
    "class Game:\n",
    "    def __init__(self, game_id, name, average_rank=0, wilson_rank=0):\n",
    "        self.id = game_id\n",
    "        self.name = name\n",
    "        self.average_rank = average_rank  \n",
    "        self.wilson_rank = wilson_rank    "
   ]
  },
  {
   "cell_type": "code",
   "execution_count": null,
   "id": "a0c63aa6-015d-4992-ba07-be70ad552cd1",
   "metadata": {},
   "outputs": [],
   "source": [
    "#create a function to calculate average rank\n",
    "#a function to calculate wilson rank\n",
    "# a way to put them in classes\n",
    "#visualization\n",
    "\n"
   ]
  }
 ],
 "metadata": {
  "kernelspec": {
   "display_name": "Python 3 (ipykernel)",
   "language": "python",
   "name": "python3"
  },
  "language_info": {
   "codemirror_mode": {
    "name": "ipython",
    "version": 3
   },
   "file_extension": ".py",
   "mimetype": "text/x-python",
   "name": "python",
   "nbconvert_exporter": "python",
   "pygments_lexer": "ipython3",
   "version": "3.11.7"
  }
 },
 "nbformat": 4,
 "nbformat_minor": 5
}
